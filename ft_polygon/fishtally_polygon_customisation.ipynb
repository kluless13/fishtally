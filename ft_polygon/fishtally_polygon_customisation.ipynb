{
  "nbformat": 4,
  "nbformat_minor": 0,
  "metadata": {
    "colab": {
      "provenance": [],
      "toc_visible": true,
      "authorship_tag": "ABX9TyNgbH/l3R0SaPFWsMEWNBx/",
      "include_colab_link": true
    },
    "kernelspec": {
      "name": "python3",
      "display_name": "Python 3"
    },
    "language_info": {
      "name": "python"
    }
  },
  "cells": [
    {
      "cell_type": "markdown",
      "metadata": {
        "id": "view-in-github",
        "colab_type": "text"
      },
      "source": [
        "<a href=\"https://colab.research.google.com/github/kluless13/paper2/blob/main/fishtally_polygon_customisation.ipynb\" target=\"_parent\"><img src=\"https://colab.research.google.com/assets/colab-badge.svg\" alt=\"Open In Colab\"/></a>"
      ]
    },
    {
      "cell_type": "markdown",
      "source": [
        "## Installing Dependencies"
      ],
      "metadata": {
        "id": "y-ysoXGAc2je"
      }
    },
    {
      "cell_type": "code",
      "source": [
        "!nvidia-smi"
      ],
      "metadata": {
        "id": "wu1sHnzHc6zK"
      },
      "execution_count": null,
      "outputs": []
    },
    {
      "cell_type": "code",
      "source": [
        "import torch\n",
        "!nvcc --version\n",
        "TORCH_VERSION = \".\".join(torch.__version__.split(\".\")[:2])\n",
        "CUDA_VERSION = torch.__version__.split(\"+\")[-1]\n",
        "print(\"torch: \", TORCH_VERSION, \"; cuda: \", CUDA_VERSION)"
      ],
      "metadata": {
        "id": "PP6MzRKwsNKs"
      },
      "execution_count": null,
      "outputs": []
    },
    {
      "cell_type": "code",
      "source": [
        "import os\n",
        "HOME = os.getcwd()\n",
        "print(HOME)"
      ],
      "metadata": {
        "id": "-eb4mzV8sQgE"
      },
      "execution_count": null,
      "outputs": []
    },
    {
      "cell_type": "code",
      "source": [
        "!pip install ultralytics\n",
        "\n",
        "from IPython import display\n",
        "display.clear_output()\n",
        "\n",
        "import ultralytics\n",
        "ultralytics.checks()"
      ],
      "metadata": {
        "id": "AL9Jj_F0sSGN"
      },
      "execution_count": null,
      "outputs": []
    },
    {
      "cell_type": "code",
      "source": [
        "!python -m pip install 'git+https://github.com/facebookresearch/detectron2.git'\n",
        "\n",
        "from IPython import display\n",
        "display.clear_output()\n",
        "\n",
        "import detectron2\n",
        "print(\"detectron2:\", detectron2.__version__)"
      ],
      "metadata": {
        "id": "Dxam3hHNsUl7"
      },
      "execution_count": null,
      "outputs": []
    },
    {
      "cell_type": "code",
      "source": [
        "!pip install supervision==0.2.0\n",
        "\n",
        "from IPython import display\n",
        "display.clear_output()\n",
        "\n",
        "import supervision as sv\n",
        "print(\"supervision\", sv.__version__)"
      ],
      "metadata": {
        "id": "JkCWpF3RsWm6"
      },
      "execution_count": null,
      "outputs": []
    },
    {
      "cell_type": "markdown",
      "source": [
        "### FishTally - Polygon Customisation"
      ],
      "metadata": {
        "id": "2d5Thiv4sdTt"
      }
    },
    {
      "cell_type": "code",
      "source": [
        "SOURCE_VIDEO_PATH = f\"{HOME}/.mp4\""
      ],
      "metadata": {
        "id": "1reAqhCbsc2D"
      },
      "execution_count": null,
      "outputs": []
    },
    {
      "cell_type": "code",
      "source": [
        "from ultralytics import YOLO\n",
        "# multiclass weights\n",
        "model = YOLO('')"
      ],
      "metadata": {
        "id": "h1N_Uxb5sqZD"
      },
      "execution_count": null,
      "outputs": []
    },
    {
      "cell_type": "code",
      "source": [
        "import supervision as sv\n",
        "\n",
        "# extract video frame\n",
        "generator = sv.get_video_frames_generator(MALL_VIDEO_PATH)\n",
        "iterator = iter(generator)\n",
        "frame = next(iterator)\n",
        "\n",
        "# detect\n",
        "results = model(frame, imgsz=1280)[0]\n",
        "detections = sv.Detections.from_yolov8(results)\n",
        "\n",
        "# annotate\n",
        "box_annotator = sv.BoxAnnotator(thickness=4, text_thickness=4, text_scale=2)\n",
        "frame = box_annotator.annotate(scene=frame, detections=detections)\n",
        "\n",
        "%matplotlib inline\n",
        "sv.show_frame_in_notebook(frame, (16, 16))"
      ],
      "metadata": {
        "id": "XTcmxnvxsuEv"
      },
      "execution_count": null,
      "outputs": []
    },
    {
      "cell_type": "code",
      "source": [
        "sv.VideoInfo.from_video_path(SOURCE_VIDEO_PATH)"
      ],
      "metadata": {
        "id": "Z8aNXWPwtEwY"
      },
      "execution_count": null,
      "outputs": []
    },
    {
      "cell_type": "markdown",
      "source": [],
      "metadata": {
        "id": "ZV_2pTIYuAc2"
      }
    },
    {
      "cell_type": "code",
      "source": [
        "import numpy as np\n",
        "import supervision as sv\n",
        "\n",
        "# initiate polygon zone\n",
        "polygon = np.array([\n",
        "    [,],\n",
        "    [,],\n",
        "    [,],\n",
        "    [,]\n",
        "])\n",
        "video_info = sv.VideoInfo.from_video_path(SOURCE_VIDEO_PATH)\n",
        "zone = sv.PolygonZone(polygon=polygon, frame_resolution_wh=video_info.resolution_wh)\n",
        "\n",
        "# initiate annotators\n",
        "box_annotator = sv.BoxAnnotator(thickness=4, text_thickness=4, text_scale=2)\n",
        "zone_annotator = sv.PolygonZoneAnnotator(zone=zone, color=sv.Color.white(), thickness=6, text_thickness=6, text_scale=4)\n",
        "\n",
        "# extract video frame\n",
        "generator = sv.get_video_frames_generator(SOURCE_VIDEO_PATH)\n",
        "iterator = iter(generator)\n",
        "frame = next(iterator)\n",
        "\n",
        "# detect\n",
        "results = model(frame, imgsz=1280)[0]\n",
        "detections = sv.Detections.from_yolov8(results)\n",
        "detections = detections[detections.class_id == 0]\n",
        "zone.trigger(detections=detections)\n",
        "\n",
        "# annotate\n",
        "box_annotator = sv.BoxAnnotator(thickness=4, text_thickness=4, text_scale=2)\n",
        "labels = [f\"{model.names[class_id]} {confidence:0.2f}\" for _, confidence, class_id, _ in detections]\n",
        "frame = box_annotator.annotate(scene=frame, detections=detections, labels=labels)\n",
        "frame = zone_annotator.annotate(scene=frame)\n",
        "\n",
        "%matplotlib inline\n",
        "sv.show_frame_in_notebook(frame, (16, 16))"
      ],
      "metadata": {
        "id": "h9uAh_tYtHSa"
      },
      "execution_count": null,
      "outputs": []
    },
    {
      "cell_type": "code",
      "source": [
        "import numpy as np\n",
        "import supervision as sv\n",
        "\n",
        "# initiate polygon zone\n",
        "polygon = np.array([\n",
        "    [,],\n",
        "    [,],\n",
        "    [,],\n",
        "    [,]\n",
        "])\n",
        "video_info = sv.VideoInfo.from_video_path(SOURCE_VIDEO_PATH)\n",
        "zone = sv.PolygonZone(polygon=polygon, frame_resolution_wh=video_info.resolution_wh)\n",
        "\n",
        "# initiate annotators\n",
        "box_annotator = sv.BoxAnnotator(thickness=4, text_thickness=4, text_scale=2)\n",
        "zone_annotator = sv.PolygonZoneAnnotator(zone=zone, color=sv.Color.white(), thickness=6, text_thickness=6, text_scale=4)\n",
        "\n",
        "def process_frame(frame: np.ndarray, _) -> np.ndarray:\n",
        "    # detect\n",
        "    results = model(frame, imgsz=1280)[0]\n",
        "    detections = sv.Detections.from_yolov8(results)\n",
        "    detections = detections[detections.class_id == 0]\n",
        "    zone.trigger(detections=detections)\n",
        "\n",
        "    # annotate\n",
        "    box_annotator = sv.BoxAnnotator(thickness=4, text_thickness=4, text_scale=2)\n",
        "    labels = [f\"{model.names[class_id]} {confidence:0.2f}\" for _, confidence, class_id, _ in detections]\n",
        "    frame = box_annotator.annotate(scene=frame, detections=detections, labels=labels)\n",
        "    frame = zone_annotator.annotate(scene=frame)\n",
        "\n",
        "    return frame\n",
        "\n",
        "sv.process_video(source_path=MALL_VIDEO_PATH, target_path=f\"{HOME}/mall-result.mp4\", callback=process_frame)\n",
        "\n",
        "from IPython import display\n",
        "display.clear_output()"
      ],
      "metadata": {
        "id": "6SfYmmY4tUDw"
      },
      "execution_count": null,
      "outputs": []
    }
  ]
}